{
  "nbformat": 4,
  "nbformat_minor": 0,
  "metadata": {
    "colab": {
      "provenance": [],
      "include_colab_link": true
    },
    "kernelspec": {
      "name": "python3",
      "display_name": "Python 3"
    }
  },
  "cells": [
    {
      "cell_type": "markdown",
      "metadata": {
        "id": "view-in-github",
        "colab_type": "text"
      },
      "source": [
        "<a href=\"https://colab.research.google.com/github/chouat2207/PFE-CineShowBackEnd/blob/main/Python_2_6_challenge_Tuples.ipynb\" target=\"_parent\"><img src=\"https://colab.research.google.com/assets/colab-badge.svg\" alt=\"Open In Colab\"/></a>"
      ]
    },
    {
      "cell_type": "markdown",
      "metadata": {
        "id": "LoJw-LlCTnWF"
      },
      "source": [
        "# Mission 1\n",
        "\n",
        "Create a tuple of your choice containing 10 elements in this order:\n",
        "- 3 integers\n",
        "- 3 strings\n",
        "- 2 lists containing 3 items each\n",
        "- 2 dictionaries containing 3 items (3 key/value pairs) each\n"
      ]
    },
    {
      "cell_type": "code",
      "metadata": {
        "id": "C2Lk113KSPUO",
        "colab": {
          "base_uri": "https://localhost:8080/"
        },
        "outputId": "00e0020d-9db2-4802-fd3a-f5aa98b61741"
      },
      "source": [
        "tuple_1 = (\n",
        "    1, 2, 3,\n",
        "    \"a\", \"b\", \"c\",\n",
        "    [\"adam\", \"Ali\", \"christophe\"],\n",
        "    [30, 40, 50],\n",
        "    {\"name\": \"Alice\", \"age\": 25, \"nationality\": \"french\"},\n",
        "    {\"name\": \"Bob\", \"age\": 25, \"city\": \"Los Angeles\"}\n",
        ")\n",
        "tuple_1"
      ],
      "execution_count": null,
      "outputs": [
        {
          "output_type": "execute_result",
          "data": {
            "text/plain": [
              "(1,\n",
              " 2,\n",
              " 3,\n",
              " 'a',\n",
              " 'b',\n",
              " 'c',\n",
              " ['adam', 'Ali', 'christophe'],\n",
              " [30, 40, 50],\n",
              " {'name': 'Alice', 'age': 25, 'nationality': 'french'},\n",
              " {'name': 'Bob', 'age': 25, 'city': 'Los Angeles'})"
            ]
          },
          "metadata": {},
          "execution_count": 13
        }
      ]
    },
    {
      "cell_type": "markdown",
      "source": [
        "Now, access the second-to-last item in the second list."
      ],
      "metadata": {
        "id": "E4dEh_s4zIdf"
      }
    },
    {
      "cell_type": "code",
      "metadata": {
        "id": "V9LKho6U6HM8",
        "colab": {
          "base_uri": "https://localhost:8080/"
        },
        "outputId": "2cc9f518-32a2-47b2-9a7f-633906beb6ff"
      },
      "source": [
        "tuple_1[7][-2]"
      ],
      "execution_count": null,
      "outputs": [
        {
          "output_type": "execute_result",
          "data": {
            "text/plain": [
              "40"
            ]
          },
          "metadata": {},
          "execution_count": 9
        }
      ]
    },
    {
      "cell_type": "markdown",
      "metadata": {
        "id": "HGoGFI9qxuzW"
      },
      "source": [
        "# Mission 2\n",
        "\n",
        "In the same tuple, access the last 4 elements using slicing."
      ]
    },
    {
      "cell_type": "code",
      "metadata": {
        "id": "qk097m4Zx4mR",
        "colab": {
          "base_uri": "https://localhost:8080/"
        },
        "outputId": "9fa60003-f06f-4836-b477-b7b39b53b3e7"
      },
      "source": [
        "tuple_1[-4:]"
      ],
      "execution_count": null,
      "outputs": [
        {
          "output_type": "execute_result",
          "data": {
            "text/plain": [
              "(['adam', 'Ali', 'christophe'],\n",
              " [30, 40, 50],\n",
              " {'name': 'Alice', 'age': 25, 'nationality': 'french'},\n",
              " {'name': 'Bob', 'age': 25, 'city': 'Los Angeles'})"
            ]
          },
          "metadata": {},
          "execution_count": 10
        }
      ]
    },
    {
      "cell_type": "markdown",
      "metadata": {
        "id": "iVHJFx3Px8mY"
      },
      "source": [
        "# Mission 3\n",
        "\n",
        "Change the value of the 4th element (the first string) of your tuple (since tuples are immutable, this means recreating a tuple where this element is changed)."
      ]
    },
    {
      "cell_type": "code",
      "metadata": {
        "id": "op3qyirV7tGZ",
        "colab": {
          "base_uri": "https://localhost:8080/"
        },
        "outputId": "b409f16d-e313-4f86-d9c2-c54a565d1d75"
      },
      "source": [
        "liste_1 = list(tuple_1)\n",
        "liste_1[3] = \"f\"\n",
        "tuple_2 = tuple(liste_1)\n",
        "tuple_2"
      ],
      "execution_count": null,
      "outputs": [
        {
          "output_type": "execute_result",
          "data": {
            "text/plain": [
              "(1,\n",
              " 2,\n",
              " 3,\n",
              " 'f',\n",
              " 'b',\n",
              " 'c',\n",
              " ['adam', 'Ali', 'christophe'],\n",
              " [30, 40, 50],\n",
              " {'name': 'Alice', 'age': 25, 'nationality': 'french'},\n",
              " {'name': 'Bob', 'age': 25, 'city': 'Los Angeles'})"
            ]
          },
          "metadata": {},
          "execution_count": 22
        }
      ]
    },
    {
      "cell_type": "markdown",
      "metadata": {
        "id": "Wp3_jhWS2Foi"
      },
      "source": [
        "# Mission 4\n",
        "\n",
        "Create 2 tuples of the same length that contain only integers.\n",
        "\n",
        "Then create a script that compares the sum of their elements and displays the tuple that has the highest total."
      ]
    },
    {
      "cell_type": "code",
      "metadata": {
        "id": "dGMYxaMWx8RO",
        "colab": {
          "base_uri": "https://localhost:8080/"
        },
        "outputId": "a1f6b2c4-5db1-4d56-ec0d-0dd0ba84e963"
      },
      "source": [
        "tuple1 = (1, 2, 3, 4, 5)\n",
        "tuple2 = (10, 20, 30, 40, 50)\n",
        "if sum(tuple1) > sum(tuple2):\n",
        "        print(print(\"the tuple 1 have the highest total. \"))\n",
        "else:\n",
        "        print(print(\"the tuple 2 have the highest total. \"))\n",
        "somme_tuple1 = 0\n",
        "somme_tuple2 = 0\n",
        "\n",
        "# ou il ya une eutre methode\n",
        "# for i in range(len(tuple1)):\n",
        "#   somme_tuple1 += i\n",
        "#   for j in range(len(tuple2)):\n",
        "#     somme_tuple2 += j\n",
        "# if somme_tuple1 > somme_tuple2:\n",
        "#       print(\"the tuple 1 have the highest total.\")\n",
        "# else:\n",
        "#       print(\"the tuple 2 have the highest total.\")\n"
      ],
      "execution_count": null,
      "outputs": [
        {
          "output_type": "stream",
          "name": "stdout",
          "text": [
            "the tuple 2 have the highest total : \n",
            "None\n"
          ]
        }
      ]
    },
    {
      "cell_type": "code",
      "source": [],
      "metadata": {
        "id": "7_sLfBI8DDHN"
      },
      "execution_count": null,
      "outputs": []
    },
    {
      "cell_type": "markdown",
      "metadata": {
        "id": "Zmk8uviVzPBZ"
      },
      "source": [
        "# Mission 5\n",
        "\n",
        "Here's a tuple:\n",
        "\n",
        "`my_tuple = (\"data analyst\", \"data scientist\", \"data engineer\", \"data architect\")`\n",
        "\n",
        "Ask the user for a string, then for an integer position. Create an altered copy of `my_tuple` where the element at the given position is now the given string."
      ]
    },
    {
      "cell_type": "code",
      "metadata": {
        "id": "0o-MuRyZ1_7u",
        "colab": {
          "base_uri": "https://localhost:8080/"
        },
        "outputId": "827b5b07-e9a6-4bc6-ebca-cf3c39772e57"
      },
      "source": [
        "my_tuple = (\"data analyst\", \"data scientist\", \"data engineer\", \"data architect\")\n",
        "string_user = input(\"entrez une chaine de caracter : \")\n",
        "position_string = int(input(\"entrez la position souhaité : \"))\n",
        "liste_1 = list(my_tuple)\n",
        "liste_1[position_string] = string_user\n",
        "tuple_changer = tuple(liste_1)\n",
        "tuple_changer"
      ],
      "execution_count": null,
      "outputs": [
        {
          "name": "stdout",
          "output_type": "stream",
          "text": [
            "entrez une chaine de caracter : architect\n",
            "entrez la position souhaité : 2\n"
          ]
        },
        {
          "output_type": "execute_result",
          "data": {
            "text/plain": [
              "('data analyst', 'data scientist', 'architect', 'data architect')"
            ]
          },
          "metadata": {},
          "execution_count": 8
        }
      ]
    }
  ]
}